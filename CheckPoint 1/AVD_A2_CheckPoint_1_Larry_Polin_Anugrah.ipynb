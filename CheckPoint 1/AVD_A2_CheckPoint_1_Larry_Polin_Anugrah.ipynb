{
  "nbformat": 4,
  "nbformat_minor": 0,
  "metadata": {
    "colab": {
      "provenance": []
    },
    "kernelspec": {
      "name": "python3",
      "display_name": "Python 3"
    },
    "language_info": {
      "name": "python"
    }
  },
  "cells": [
    {
      "cell_type": "markdown",
      "source": [
        "# Business Understanding\n",
        "\n"
      ],
      "metadata": {
        "id": "SgFUTdXDWK2W"
      }
    },
    {
      "cell_type": "markdown",
      "source": [
        "## Business Objective\n",
        "\n"
      ],
      "metadata": {
        "id": "vTmd_ip1WT3N"
      }
    },
    {
      "cell_type": "markdown",
      "source": [
        "Tujuan utama proyek ini untuk menganalisis pola penjualan e-commerce guna meningkatkan efisiensi operasional, memahami preferensi pelanggan, serta mengidentifikasi tren penjualan dan produk ungglan, dengan menggunakan wawasan yang dihasilkan untuk merancang strategi pemasaran yang lebih efektif, sehingga dapat mendukung perkembangan bisnis secara keseluruhan terutama dalam pengambilan keputusan bisnis."
      ],
      "metadata": {
        "id": "EfEpI_RJoQfU"
      }
    },
    {
      "cell_type": "markdown",
      "source": [
        "## Assess Situation\n",
        "\n",
        "\n"
      ],
      "metadata": {
        "id": "YJIAzIP8ZXnU"
      }
    },
    {
      "cell_type": "markdown",
      "source": [
        "Situasi bisnis yang mendasari analisis ini adalah indsutri e-commerce yang semakin kompetitif dengan meningkatnya jumlah pesaing di pasar, sehingga penting bagi binis untuk memahami pola penjualan, preferensi pelanggan dan kinerja produk untuk tetap relevan. Tetapi, tantangan yang perlu diatasi ketidakseimbangan volume penjualan antar produk dan keberagaman kategori yang membutuhkan pendekatan yang harus disesuaikan. Untuk menghadapi tantangan ini diperlukan pendekatan berbasis data dalam pengambilan keputusan strategis dan perencanaan pemasaran."
      ],
      "metadata": {
        "id": "LeH8PiUHoTOF"
      }
    },
    {
      "cell_type": "markdown",
      "source": [
        "## Data Mining Goals"
      ],
      "metadata": {
        "id": "Gu2U_t9Evr5U"
      }
    },
    {
      "cell_type": "markdown",
      "source": [
        "Mengidentifikasi produk atau kategori terlaris, mengevaluasi antara harga dan volume penjualan, menganalissi tren penjualan berdasarkan waktu, serta memahami distribusi ulasan pelanggan untuk menilai presepsi terhadap produk guna mendukung keputusan bisnis yang lebih efektif."
      ],
      "metadata": {
        "id": "A4sXoAGvvuMH"
      }
    },
    {
      "cell_type": "markdown",
      "source": [
        "## Project Plan\n"
      ],
      "metadata": {
        "id": "vRz5xxBu0K9R"
      }
    },
    {
      "cell_type": "markdown",
      "source": [
        "1. Pemahaman Data (Data Understanding)\n",
        "* Mengumpulkan data penjualan e-commerce berdasarkan kategori produk, harga, ulasan pelanggan, dan volume penjualan bulanan.\n",
        "* Memahami pola data untuk mengidentifikasi tren pasar, produk terlaris, dan preferensi pelanggan.\n",
        "* Menentukan strategi pemasaran dan manajemen inventaris yang lebih efektif .\n",
        "2. Persiapan Data (Data Preparation)\n",
        "* Membersihkan data dengan menghapus atau mengimputasi data yang hilang dan memperbaiki kesalahan format data.\n",
        "* Mengubah format data menjadi bentuk yang lebih terstruktur.\n",
        "3. Visualisasi\n",
        "* Menganalisis pola penjualan berdasarkan waktu tren musiman, produk terlaris, ulasan pelanggan.\n",
        "* Membuat visualisasi dari hasil analisis pola penjualan seperti grafik garis, diagram batang, dll.\n",
        "4. Dashboard\n",
        "* Membuat dashboard interaktif yang menyajikan wawasan, seperti kontribusi kategori produk, tren penjualan, dan segmentasi pelanggan. Yang dapat mendukung pengambilan keputusan berbasis data secara strategis.\n",
        "5. Insight & Preparation\n",
        "* Identifikasi produk unggulan, preferensi pelanggan, dan pola penjualan dapat meningkatkan efisiensi operasional dan pengalaman konsumen.\n",
        "* Menerapkan strategi pemasaran dan manajemen inventaris berdasarkan wawasan yang diperoleh.\n",
        "* Memantau perubahan tren pasar dan memperbarui analisis secara berkala.\n",
        "\n",
        "\n"
      ],
      "metadata": {
        "id": "C8pHRxuLGjlP"
      }
    }
  ]
}