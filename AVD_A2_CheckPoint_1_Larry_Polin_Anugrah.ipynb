{
  "nbformat": 4,
  "nbformat_minor": 0,
  "metadata": {
    "colab": {
      "provenance": []
    },
    "kernelspec": {
      "name": "python3",
      "display_name": "Python 3"
    },
    "language_info": {
      "name": "python"
    }
  },
  "cells": [
    {
      "cell_type": "markdown",
      "source": [
        "# Business Understanding\n",
        "\n"
      ],
      "metadata": {
        "id": "SgFUTdXDWK2W"
      }
    },
    {
      "cell_type": "markdown",
      "source": [
        "## Business Objective\n",
        "\n"
      ],
      "metadata": {
        "id": "vTmd_ip1WT3N"
      }
    },
    {
      "cell_type": "markdown",
      "source": [
        "Tujuan utama proyek ini untuk menganalisis pola video game yang rilis pada tahun 2022 guna untuk perilisan video game dimasa yang mendatang. Melalui analisis ini, proyek ini dapat merencanakan strategi pemasaran yang lebih efektif dan efisien dengan mengetahui preferensi platform, genre yang populer, dan waktu perilisan yang ideal."
      ],
      "metadata": {
        "id": "EfEpI_RJoQfU"
      }
    },
    {
      "cell_type": "markdown",
      "source": [
        "## Assess Situation\n",
        "\n",
        "\n"
      ],
      "metadata": {
        "id": "YJIAzIP8ZXnU"
      }
    },
    {
      "cell_type": "markdown",
      "source": [
        "Situasi bisnis game yang mendasari analisis ini adalah tren perilisan video game yang mencakup berbagai platform populer seperti Nintendo Switch dan Windows dengan genre favorit meliputi RPG, Action-Adventure, Puzzle, serta pola perilisan yang terdistribusi merata sepanjang tahun tetapi memuncak pada bulan-bulan tertentu untuk memanfaatkan momen seperti awal tahun dan musim liburan. Oleh karena itu, analisis pola perilisan ini dapat membantu dalam perencanaan strategi bagi perusahaan pengembang dan penerbit game untuk memaksimalkan penjualan game mereka."
      ],
      "metadata": {
        "id": "LeH8PiUHoTOF"
      }
    },
    {
      "cell_type": "markdown",
      "source": [
        "## Data Mining Goals"
      ],
      "metadata": {
        "id": "Gu2U_t9Evr5U"
      }
    },
    {
      "cell_type": "markdown",
      "source": [
        "Mengidentifikasi pola perilisan video game di masa yang mendatang, memahami preferensi platform yang sedang populer, menganalisis genre favorit, serta mengevaluasi pola perilisan berdasarkan waktu agar dapat merencanakan strategi pemasaran yang lebih baik."
      ],
      "metadata": {
        "id": "A4sXoAGvvuMH"
      }
    },
    {
      "cell_type": "markdown",
      "source": [
        "## Project Plan\n"
      ],
      "metadata": {
        "id": "vRz5xxBu0K9R"
      }
    },
    {
      "cell_type": "markdown",
      "source": [
        "1. Pemahaman Data (Data Understanding)\n",
        "* Mengumpulkan data dan memahami pola data video game yang rilis seperti platform, genre dan waktu perilisannya.\n",
        "* Menentukan strategi pemasaran video game yang efektif dan efisien.\n",
        "2. Persiapan Data (Data Preparation)\n",
        "* Membersihkan data dengan menghapus atau mengimputasi data yang hilang dan memperbaiki kesalahan format data.\n",
        "* Mengubah format data menjadi bentuk yang lebih berguna\n",
        "3. Visualisasi\n",
        "* Menganalisis data untuk memahami pola perilisan video game.\n",
        "* Memvisualisasi data yang telah dianalisis untuk memprediksi tren perilisan di masa mendatang berdasarkan data historis dan mengelompokkan game menjadi beberapa kluster berdasarkan kesamaan dalam tanggal perilisan, genre dan platformnya.\n",
        "4. Dashboard\n",
        "* Mengelolah hasil analisis, kemudian membuat tampilan yang dapat memberikan wawasan  dalam mengambil keputusan.\n",
        "5. Insight & Preparation\n",
        "* Identifikasi preferensi platform, popularitas genre, dan pola perilisan berdasarkan waktu yang efektif dan efisien\n",
        "* Menerapkan strategi pemasaran berdasarkan wawasan yang diperoleh.\n",
        "* Memantau perubahan yang terjadi dan memperbarui analisis.\n",
        "\n",
        "\n",
        "\n"
      ],
      "metadata": {
        "id": "C8pHRxuLGjlP"
      }
    }
  ]
}